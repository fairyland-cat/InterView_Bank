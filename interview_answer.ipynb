{
 "cells": [
  {
   "cell_type": "markdown",
   "metadata": {},
   "source": [
    "# 基础"
   ]
  },
  {
   "cell_type": "markdown",
   "metadata": {},
   "source": [
    "- 列举几种python常用的包并阐述其功能及用法\n",
    "    + pymysql连接MySQL数据库\n",
    "\n",
    "    ```\n",
    "    from pymysql import connect\n",
    "    db = connect()  # 创建连接\n",
    "    db.currse()  # 获取游标\n",
    "    ```\n",
    "    + pillow 图像处理模块\n",
    "    + request 网络请求模块"
   ]
  },
  {
   "cell_type": "markdown",
   "metadata": {},
   "source": [
    "- 简述静态方法、类方法、实例方法的区别\n",
    "> 静态方法：不需要self参数；可以直接使用类名进行调用；需要使用@staticmethod函数装饰;不与类进行交互，不使用类的方法与变量<br>\n",
    "实例方法：函数需要self参数；需要使用类对象调用<br>\n",
    "类方法：函数需要参数cls； 可以直接使用类名调用； 需要使用@classmethod进行装饰，可以使用类的方法和变量"
   ]
  },
  {
   "cell_type": "markdown",
   "metadata": {},
   "source": [
    "> isinstance & type 的区别<br>\n",
    "    - isinstance：执行效率较于type更高，只能判断变量是否为目标类型；可以判断子类是否是父类<br>\n",
    "    - type:可以获取变量的类型"
   ]
  },
  {
   "cell_type": "markdown",
   "metadata": {},
   "source": [
    "> mysql中delete from 表名 和 truncate table 表名的区别<br>\n",
    "    - delete删除的数据存放在系统回滚段中，自增字段接着之前的数据计数\n",
    "    - truncate删除的数据无法回滚恢复，自增字段从头计数，因此较于delete更快"
   ]
  },
  {
   "cell_type": "markdown",
   "metadata": {},
   "source": [
    "> 浅谈一下copy 和 deepcopy的特点\n",
    "    - copy只拷贝了对象的表层数据，如果里边有子对象将不会被拷贝；因此如果原数据的子对象改变则拷贝的对象的子对象也会改变\n",
    "    - deepcopy则拷贝对象的全部对象，因此原数据改变不会影响到拷贝的对象"
   ]
  },
  {
   "cell_type": "markdown",
   "metadata": {},
   "source": [
    "> json.load(),json.loads(),json.dump(),json.dumps()序列化\n",
    "    - dic = {1:1,2:2}\n",
    "    - loads(dic) 将字符串列表或字典转换为列表活字典对象\n",
    "    - load(open('file', 'rb')) 将文件中的内容读取出来\n",
    "    - dumps(dic) 将特定的对象序列化处理为字符串\n",
    "    - dump(dic,open('file', 'wb')) 把序列化后的字符串写入文件中"
   ]
  },
  {
   "cell_type": "markdown",
   "metadata": {},
   "source": [
    "> 浅谈with\n",
    "    - 需要在上下文管理器Content Mangement中工作\n",
    "    - 实现了__enter__() 和 __exit__()\n",
    "    - 支持上下文管理器的内建对象可以使用with语法\n",
    "    - 例如：操作文件、线程锁的自动获取和释放...\n",
    "    - 可自定义上下文管理器，需要实现__enter__() 和 __exit__()"
   ]
  },
  {
   "cell_type": "markdown",
   "metadata": {},
   "source": [
    "> python传参数是传值还是传址\n",
    "    - 传递的是引用，因此参数的引用计数会+1\n",
    "    - 参数为不可变类型（str, number, tuple）时，运算不会影响到变量本身\n",
    "    - 参数为可变类型则有可能会更改传入参数的变量"
   ]
  },
  {
   "cell_type": "markdown",
   "metadata": {},
   "source": [
    "> 提高python运行效率的方法\n",
    "    - 使用生成器，节省内存\n",
    "    - 优化循环代码，避免过多重复代码的执行\n",
    "    - 核心模块使用Cython PyPy C等提高效率\n",
    "    - 多线程 多进程 协程\n",
    "    - 优化判断语句，将最有可能发生的条件放在前边，减少程序的判断次数"
   ]
  },
  {
   "cell_type": "markdown",
   "metadata": {},
   "source": [
    "> 浅谈__call__、__str__\n",
    "    - __call__ 类中实现该方法后，该类的对象可以当作函数使用：\n",
    "    t = Test() \n",
    "    t() -> 调用的是重写的__call__方法\n",
    "    - __str__ 实现该方法后，如果print(t)则输出该方法的返回值"
   ]
  },
  {
   "cell_type": "markdown",
   "metadata": {},
   "source": [
    "# 爬虫"
   ]
  },
  {
   "cell_type": "markdown",
   "metadata": {},
   "source": [
    "> 字体反爬虫（爬取汽车之家遇到的问题）<br>\n",
    "    - 解决方法：fonttool\n",
    "    - 解决步骤：\n",
    "    1.访问页面，获取字体的动态访问地址并下载；\n",
    "    2.读取帖子的文本，将其中自定义的字体编码替换为实际的编码"
   ]
  },
  {
   "cell_type": "markdown",
   "metadata": {},
   "source": [
    "# 内键函数"
   ]
  },
  {
   "cell_type": "markdown",
   "metadata": {},
   "source": [
    "> range 和 xrange 的区别\n",
    "    - range([start,] stop[, step])，根据start与stop指定的范围以及step设定的步长，生成一个序列。\n",
    "    - xrange 的参数和用法一样；所不同的是range返回的是list，xrange返回的是iteration"
   ]
  },
  {
   "cell_type": "markdown",
   "metadata": {},
   "source": [
    "> 字典的items 和 iteritems 的区别\n",
    "    - items 返回的是字典的所有键值对的列表\n",
    "    - iteritems 返回的是迭代器；在python3中该方法已被items替代"
   ]
  },
  {
   "cell_type": "markdown",
   "metadata": {},
   "source": [
    "# 内存"
   ]
  },
  {
   "cell_type": "markdown",
   "metadata": {},
   "source": [
    "> 堆内存 和 栈内存 的区别\n",
    "    - 堆内存 存放创建的对象，使用完后建议手动清理，程序运行完后可能会回收；在内存中非连续分布\n",
    "    - 栈内存 存放局部变量值，参数值等；系统自动回收；在内存中分布是连续的\n",
    "    - "
   ]
  },
  {
   "cell_type": "markdown",
   "metadata": {},
   "source": [
    "> 简述python引用计数机制和gc\n",
    "    - 如果一个对象的引用数为0，Python虚拟机就会回收这个对象的内存\n",
    "    - 引用计数+1：a=23; b=a; fun(a); list=[a]\n",
    "    - 引用计数-1：del a; a=24; fun(）执行完成时，局部变量引用-1; del list; list.pop(a)\n",
    "    - 循环引用会导致内存泄露\n",
    "    - gc.collect() 执行垃圾回收;可以输入参数，0代表只检查第一代的对象，1代表检查一，二代的对象，2代表检查一，二，三代的对象，如果不传参数，执行一个full collection，也就是等于传2\n",
    "    - 在Python中，采用分代收集的方法。把对象分为三代，一开始，对象在创建的时候，放在一代中，如果在一次一代的垃圾检查中，改对象存活下来，就会被放到二代中，同理在一次二代的垃圾检查中，该对象存活下来，就会被放到三代中\n",
    "    - import gc模块，并且is_enable()=True才会启动自动垃圾回收\n",
    "    - 参考：https://www.cnblogs.com/Xjng/p/5128269.html"
   ]
  },
  {
   "cell_type": "markdown",
   "metadata": {},
   "source": [
    "# 正则"
   ]
  },
  {
   "cell_type": "markdown",
   "metadata": {},
   "source": [
    "> re.compile是将正则表达式编译成一个对象，加快速度，并重复使用"
   ]
  },
  {
   "cell_type": "markdown",
   "metadata": {},
   "source": [
    "> \\1...\\9 匹配第n个分组的内容"
   ]
  },
  {
   "cell_type": "markdown",
   "metadata": {},
   "source": [
    "# Linux"
   ]
  },
  {
   "cell_type": "markdown",
   "metadata": {},
   "source": [
    "> Linux命令重定向 > 和 >>\n",
    "    - Linux 允许将命令执行结果 重定向到一个 文件\n",
    "    - > 表示输出，会覆盖文件原有的内容\n",
    "    - >> 表示追加，会将内容追加到已有文件的末尾"
   ]
  },
  {
   "cell_type": "markdown",
   "metadata": {},
   "source": [
    "# web"
   ]
  },
  {
   "cell_type": "markdown",
   "metadata": {},
   "source": [
    "> 分别从前端、后端、数据库阐述web项目的性能优化\n",
    "    - 前端优化\n",
    "    - 减少http请求，例如精灵图\n",
    "    - html放在页面上部，js放在页面下面，因为js加载比html 和css慢\n",
    "    - 精灵图参考：https://blog.csdn.net/lvonve/article/details/80531296\n",
    "    - 后端优化\n",
    "    - 缓存读写次数高，变化少的数据\n",
    "    - 如有耗时操作，采用异步处理的方式，例如celery\n",
    "    - 优化代码，提示代码执行效率，例如减少循环，优化判断\n",
    "    - 数据库优化\n",
    "    - 对于高并发，需要频繁读取的建议放在redis\n",
    "    - 建立索引、外键等"
   ]
  },
  {
   "cell_type": "markdown",
   "metadata": {},
   "source": [
    "> 列出常见MYSQL数据存储引擎\n",
    "    - innoDB\n",
    "    - 建议使用在需要对事务完整性要求比较高的（银行），要求实现并发控制（售票）\n",
    "    - 支持事务的提交、回滚\n",
    "    - myISAM\n",
    "    - 插入数据块、占用空间和内存比较低\n",
    "    - 如果只是用于插入新纪录和读出记录可以使用\n",
    "    - MEMORY\n",
    "    - 用在需要读写速度高，对数据安全性要求低的项目中\n",
    "    - 对表的大小有限制，无法建立比较大的表"
   ]
  },
  {
   "cell_type": "markdown",
   "metadata": {},
   "source": [
    "> 浅谈同源策略 和 跨域\n",
    "    - 所谓同源策略，指的是浏览器对不同源的脚本或者文本的访问方式进行的限制。比如源a的js不能读取或设置引入的源b的元素属性\n",
    "    -何为同源\n",
    "    - http:www.test.com与https:www.test.com 不同源——协议不同 \n",
    "    - http:www.test.com与http:www.admin.com 不同源——域名不同 \n",
    "    - http:www.test.com与http:www.test.com:8081 不同源——端口不同\n",
    "    - http://www.foo.com/js/a.js \thttp://foo.com/js/b.js 不同源--子域名不同\n",
    "    - 只要不满足其中任意一个要求，就不符合同源策略，就会出现“跨域”\n",
    "    - 跨域问题\n",
    "    - 同源策略限制的不同源之间的交互主要针对的是js中的XMLHttpRequest等请求\n",
    "    - 例如 XMLHttpRequest cannot load http://www.bar.com/js/test.js"
   ]
  },
  {
   "cell_type": "markdown",
   "metadata": {},
   "source": [
    "> 简述cookie和session的区别\n",
    "    - session 在服务器端，cookie 在客户端（浏览器）\n",
    "    - session 的运行依赖 session id，而 session id 是存在 cookie 中的\n",
    "    - 值是开发人员设置的键值对信息，进行了base64编码，过期时间由开发人员设置\n",
    "    - cookie安全性比session差\n",
    "    - 如果SESSION_EXPIRE_AT_BROWSER_CLOSE的值为true，cookie将在浏览器关闭后销毁\n",
    "    - 否则，cookie可以通过在setting中的SESSION_COOKIE_AGE设置有效时间，缺省设置是两周，即1209600秒\n",
    "    - cookie销毁后，依赖于cookie的session也将无效"
   ]
  },
  {
   "cell_type": "markdown",
   "metadata": {},
   "source": [
    "> 简述多线程、多进程\n",
    "    - 进程\n",
    "    - 操作系统进行资源分配和调度的基本单位，多个进程之间相互独立\n",
    "    - 稳定性好，如果一个进程崩溃，不影响其他进程，但是进程消耗资源大，开启的进程数量有限制\n",
    "    - 线程\n",
    "    - CPU进行资源分配和调度的基本单位，线程是进程的一部分，是比进程更小的能独立运行的基本单位，一个进程下的多个线程可以共享该进程的所有资源\n",
    "    - 如果IO操作密集，则可以多线程运行效率高，缺点是如果一个线程崩溃，都会造成进程的崩溃\n",
    "    - 应用\n",
    "    - IO密集的用多线程，在用户输入，sleep 时候，可以切换到其他线程执行，减少等待的时间\n",
    "    - CPU密集的用多进程，因为假如IO操作少，用多线程的话，因为线程共享一个全局解释器锁，当前运行的线程会霸占GIL，其他线程没有GIL，就不能充分利用多核CPU的优势"
   ]
  },
  {
   "cell_type": "markdown",
   "metadata": {},
   "source": [
    "> 简述any() 和 all() 方法\n",
    "    - any() 只要可迭代对象中有一个元素为真则为真\n",
    "    - all() 可迭代器对象的元素全部为真，结果才为真\n",
    "    - 假：0，空字符串，空列表、空字典、空元组、None, False\n",
    "    - 真：不为假则为真"
   ]
  },
  {
   "cell_type": "markdown",
   "metadata": {},
   "source": [
    "> 常见异常\n",
    "    - IOError：输入输出异常\n",
    "    - AttributeError：试图访问一个对象没有的属性\n",
    "    - ImportError：无法引入模块或包，基本是路径问题\n",
    "    - IndentationError：语法错误，代码没有正确的对齐\n",
    "    - IndexError：下标索引超出序列边界\n",
    "    - KeyError:试图访问你字典里不存在的键\n",
    "    - SyntaxError:Python代码逻辑语法出错，不能执行\n",
    "    - NameError:使用一个还未赋予对象的变量"
   ]
  },
  {
   "cell_type": "markdown",
   "metadata": {},
   "source": [
    "```python\n",
    "# argv\n",
    "import sys\n",
    "\n",
    "# 终端输入 python test.py 1 2\n",
    "print(sys.argv)\n",
    "# 输出 ['test.py', 1, 2]\n",
    "```"
   ]
  },
  {
   "cell_type": "markdown",
   "metadata": {},
   "source": [
    "> HTTP请求中get和post区别\n",
    "    - get请求的参数可以在url中看到，post放在请求头中无法直接看到，因此post的安全性>get\n",
    "    - 请求参数的大小根据浏览器的不同会有限制，限制的大小post>get"
   ]
  },
  {
   "attachments": {
    "image.png": {
     "image/png": "[encoded data removed]"
    }
   },
   "cell_type": "markdown",
   "metadata": {},
   "source": [
    "> 简述生产者消费者模型应用场景及优势\n",
    "![image.png](attachment:image.png)\n",
    "- 应用场景\n",
    "    + 下载资源，生产者的速度大于消费者\n",
    "    + 读取资源并显示，生产者的速度小于消费者\n",
    "- 优势\n",
    "    + 实现了生产者和消费者之间的解耦\n",
    "    + 解决了阻塞问题"
   ]
  },
  {
   "cell_type": "markdown",
   "metadata": {},
   "source": [
    "# 网络"
   ]
  },
  {
   "cell_type": "markdown",
   "metadata": {},
   "source": [
    "> TCP 三次握手 四次挥手\n",
    "- 三次握手 tcp建立连接时的过程<br>\n",
    "    1.客户端向服务端发送data  （此时客户端为半打开状态syn_sent）<br>\n",
    "    2.服务端接收到后回复并发送确认(ack)<br>\n",
    "    3.客户端收到确认后发送回复<br>\n",
    "    + 客户端发送了data，但是没有收到回复，可能是发送的数据丢失也可能是回复的数据丢失，此时需要「tcp重传」\n",
    "    + 既然会重传，服务器就有可能同一句话听见了两次，这就是「去重」\n",
    "    + 客户端可以向服务端发送data，服务器端同样也可以主动发送data，因为tcp链接是「双工的」\n",
    "    + 客户端可以连续发送多次data，这是服务器端不用每次都回复，可以在连续接收完后再回复，这就是批量ack\n",
    "    + 但是，也不能连续发送太多data，需要规定好合适的发送和接受频率，这个就是tcp窗口大小\n",
    "- 四次挥手 tcp断开连接的过程；与建立连接时比较类似，但是中间服务器回复 与 确认的行为不一定在一次中完成，有可能拆分成两次\n",
    "    ![四次挥手](https://i.loli.net/2018/07/11/5b456daac6fac.gif)"
   ]
  },
  {
   "cell_type": "markdown",
   "metadata": {},
   "source": [
    "> 浅谈 TCP UDP的区别与特点\n",
    "- TCP 套接字类型为面向连接`socket.socket(socket.AF_INET, socket.SOCK_STREAM)`\n",
    "- UDP 无连接类型`socket.socket(socket.AF_INET, socket.SOCK_DGRAM)`\n",
    "- TCP 需要在每台设备上维护所有的传输连接，每个连接都会占用cpu等资源(UDP占用较少)\n",
    "- TCP 保证数据正确性、顺序性；UDP可能会丢包，不保证顺序\n",
    "- TCP的确认机制(三次握手四次挥手)导致容易被攻击，UDP相较更安全\n",
    "- TCP 连接只能是一对一，UDP支持一对一、一对多、多对一、多对多\n",
    "- TCP面向字节流、UDP面向报文"
   ]
  },
  {
   "cell_type": "markdown",
   "metadata": {},
   "source": [
    "> 浅谈套接字\n",
    "- 套接字有不同的家族，Python只支持AF_UNIX,\tAF_NETLINK，和AF_INET家族\n",
    "- 套接字分为面向连接(虚电路SOCK_STREAM) 和 无连接(数据报SOCK_DGRAM)\n",
    "- 套接字地址 host:port, 端口0~65535，小于1024的端口为系统保留端口"
   ]
  },
  {
   "cell_type": "markdown",
   "metadata": {},
   "source": [
    "> 路由器和交换机的区别\n",
    "- 路由器分配ip地址，虚拟拨号；交换机负责分配数据\n",
    "- 路由器在网络层，根据ip寻址；交换机在中继层，根据mac地址寻址\n",
    "- 路由器将一个ip分给多个主机；交换机将多个主机连接到一起，各有各的ip\n",
    "- 交换机构建局域网，实现主机与主机的链接；路由器实现网络与网络的链接(如局域网与广域网)"
   ]
  },
  {
   "cell_type": "markdown",
   "metadata": {},
   "source": [
    "> 什么是域名解析<br>\n",
    "- 域名解析也叫域名指向、服务器设置、域名配置以及反向IP登记等等。说得简单点就是将好记的域名解析成IP，服务由DNS服务器完成，是把域名解析到一个IP地址，然后在此IP地址的主机上将一个子目录与域名绑定。"
   ]
  },
  {
   "cell_type": "markdown",
   "metadata": {},
   "source": [
    "> Nginx是什么及作用\n"
   ]
  },
  {
   "cell_type": "markdown",
   "metadata": {},
   "source": [
    "> 简述 asynio模块的作用和应用场景"
   ]
  },
  {
   "cell_type": "markdown",
   "metadata": {},
   "source": [
    "> 什么是并发和并行"
   ]
  },
  {
   "cell_type": "markdown",
   "metadata": {},
   "source": [
    "> 什么是并发和并行"
   ]
  },
  {
   "cell_type": "markdown",
   "metadata": {},
   "source": [
    "# 数据库"
   ]
  },
  {
   "cell_type": "markdown",
   "metadata": {},
   "source": [
    "### redis 数据类型有哪些"
   ]
  },
  {
   "cell_type": "markdown",
   "metadata": {},
   "source": [
    "> redis 支持五种数据类型：string hash list set zset"
   ]
  },
  {
   "cell_type": "markdown",
   "metadata": {},
   "source": [
    "### scrapy redis 怎么实现去重"
   ]
  },
  {
   "cell_type": "markdown",
   "metadata": {},
   "source": [
    "# 安全"
   ]
  },
  {
   "cell_type": "markdown",
   "metadata": {},
   "source": [
    "## sql注入"
   ]
  },
  {
   "cell_type": "markdown",
   "metadata": {},
   "source": [
    "- 引发原因\n",
    "    + 直接编写sql语句时将字符串与变量混合\n",
    "- 解决方法\n",
    "    + 使用ORM对象关系映射模型\n",
    "    + 对于shell，可以使用shlex模块正确转义输入"
   ]
  },
  {
   "cell_type": "code",
   "execution_count": null,
   "metadata": {},
   "outputs": [],
   "source": []
  }
 ],
 "metadata": {
  "kernelspec": {
   "display_name": "Python 3",
   "language": "python",
   "name": "python3"
  },
  "language_info": {
   "codemirror_mode": {
    "name": "ipython",
    "version": 3
   },
   "file_extension": ".py",
   "mimetype": "text/x-python",
   "name": "python",
   "nbconvert_exporter": "python",
   "pygments_lexer": "ipython3",
   "version": "3.6.5"
  }
 },
 "nbformat": 4,
 "nbformat_minor": 2
}
