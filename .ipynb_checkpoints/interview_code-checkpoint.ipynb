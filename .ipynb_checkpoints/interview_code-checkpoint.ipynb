{
 "cells": [
  {
   "cell_type": "code",
   "execution_count": 4,
   "metadata": {},
   "outputs": [
    {
     "data": {
      "text/plain": [
       "'5|4|3|2|1'"
      ]
     },
     "execution_count": 4,
     "metadata": {},
     "output_type": "execute_result"
    }
   ],
   "source": [
    "# 使用python将字符串‘1.2.3.4.5’转换为‘5|4|3|2|1’\n",
    "num = '1.2.3.4.5'\n",
    "num = num[::-1]\n",
    "num.replace('.', '|')"
   ]
  },
  {
   "cell_type": "code",
   "execution_count": 12,
   "metadata": {},
   "outputs": [
    {
     "data": {
      "text/plain": [
       "'2012-03-25 13:23:34'"
      ]
     },
     "execution_count": 12,
     "metadata": {},
     "output_type": "execute_result"
    }
   ],
   "source": [
    "# 使用正则表达式匹配时间信息\n",
    "import re\n",
    "result = re.match(r'^\\d{4}-\\d{2}-\\d{2}.?\\d{2}:\\d{2}:\\d{2}$', '2012-03-25 13:23:34')\n",
    "result.group()"
   ]
  },
  {
   "cell_type": "code",
   "execution_count": null,
   "metadata": {},
   "outputs": [],
   "source": [
    "# 编写装饰函数，打印装饰函数的输入输出\n",
    "def show(fun):\n",
    "    @functools.wraps(func)  # main函数被装饰后__name__会被改变，使用该语句避免此种情况b\n",
    "    def sec(*args, **kwargs):\n",
    "        pass\n",
    "        return fun(*args, **kwargs)\n",
    "    return sec\n",
    "\n",
    "\n",
    "@show\n",
    "def main():\n",
    "    print(\"被装饰的函数main\")"
   ]
  },
  {
   "cell_type": "code",
   "execution_count": 13,
   "metadata": {},
   "outputs": [
    {
     "data": {
      "text/plain": [
       "[2, 3, 4, 5, 6, 8, 9, 10, 11, 17]"
      ]
     },
     "execution_count": 13,
     "metadata": {},
     "output_type": "execute_result"
    }
   ],
   "source": [
    "# 按升序合并两个list，并去除重复元素\n",
    "list1 = [2, 3, 8, 4, 9, 5, 6]\n",
    "list2 = [5, 6, 10, 17, 11, 2]\n",
    "result = set(list1 + list2)\n",
    "list(result)"
   ]
  },
  {
   "cell_type": "code",
   "execution_count": 20,
   "metadata": {},
   "outputs": [
    {
     "data": {
      "text/html": [
       "<div>\n",
       "<style scoped>\n",
       "    .dataframe tbody tr th:only-of-type {\n",
       "        vertical-align: middle;\n",
       "    }\n",
       "\n",
       "    .dataframe tbody tr th {\n",
       "        vertical-align: top;\n",
       "    }\n",
       "\n",
       "    .dataframe thead th {\n",
       "        text-align: right;\n",
       "    }\n",
       "</style>\n",
       "<table border=\"1\" class=\"dataframe\">\n",
       "  <thead>\n",
       "    <tr style=\"text-align: right;\">\n",
       "      <th></th>\n",
       "      <th>rq</th>\n",
       "      <th>shengfu</th>\n",
       "    </tr>\n",
       "  </thead>\n",
       "  <tbody>\n",
       "    <tr>\n",
       "      <th>0</th>\n",
       "      <td>2017-04-09</td>\n",
       "      <td>胜</td>\n",
       "    </tr>\n",
       "    <tr>\n",
       "      <th>1</th>\n",
       "      <td>2017-04-09</td>\n",
       "      <td>胜</td>\n",
       "    </tr>\n",
       "    <tr>\n",
       "      <th>2</th>\n",
       "      <td>2017-04-09</td>\n",
       "      <td>胜</td>\n",
       "    </tr>\n",
       "    <tr>\n",
       "      <th>3</th>\n",
       "      <td>2017-04-09</td>\n",
       "      <td>胜</td>\n",
       "    </tr>\n",
       "    <tr>\n",
       "      <th>4</th>\n",
       "      <td>2017-04-10</td>\n",
       "      <td>负</td>\n",
       "    </tr>\n",
       "  </tbody>\n",
       "</table>\n",
       "</div>"
      ],
      "text/plain": [
       "           rq shengfu\n",
       "0  2017-04-09       胜\n",
       "1  2017-04-09       胜\n",
       "2  2017-04-09       胜\n",
       "3  2017-04-09       胜\n",
       "4  2017-04-10       负"
      ]
     },
     "execution_count": 20,
     "metadata": {},
     "output_type": "execute_result"
    }
   ],
   "source": [
    "# mysql表名com_result,表内容如下\n",
    "import pandas as pd\n",
    "import numpy as np\n",
    "df = pd.DataFrame(data=np.array([['2017-04-09', '胜'],\n",
    "                          ['2017-04-09', '胜'],\n",
    "                          ['2017-04-09', '胜'],\n",
    "                          ['2017-04-09', '胜'],\n",
    "                          ['2017-04-10', '负']]), columns=['rq', 'shengfu'])\n",
    "df"
   ]
  },
  {
   "cell_type": "code",
   "execution_count": 32,
   "metadata": {},
   "outputs": [
    {
     "data": {
      "text/html": [
       "<div>\n",
       "<style scoped>\n",
       "    .dataframe tbody tr th:only-of-type {\n",
       "        vertical-align: middle;\n",
       "    }\n",
       "\n",
       "    .dataframe tbody tr th {\n",
       "        vertical-align: top;\n",
       "    }\n",
       "\n",
       "    .dataframe thead th {\n",
       "        text-align: right;\n",
       "    }\n",
       "</style>\n",
       "<table border=\"1\" class=\"dataframe\">\n",
       "  <thead>\n",
       "    <tr style=\"text-align: right;\">\n",
       "      <th></th>\n",
       "      <th>rq</th>\n",
       "      <th>胜</th>\n",
       "      <th>负</th>\n",
       "    </tr>\n",
       "  </thead>\n",
       "  <tbody>\n",
       "    <tr>\n",
       "      <th>0</th>\n",
       "      <td>2017-04-09</td>\n",
       "      <td>4</td>\n",
       "      <td>0</td>\n",
       "    </tr>\n",
       "    <tr>\n",
       "      <th>1</th>\n",
       "      <td>2017-04-10</td>\n",
       "      <td>0</td>\n",
       "      <td>1</td>\n",
       "    </tr>\n",
       "  </tbody>\n",
       "</table>\n",
       "</div>"
      ],
      "text/plain": [
       "           rq  胜  负\n",
       "0  2017-04-09  4  0\n",
       "1  2017-04-10  0  1"
      ]
     },
     "execution_count": 32,
     "metadata": {},
     "output_type": "execute_result"
    }
   ],
   "source": [
    "# 使用sql语句生成如下查询结果\n",
    "result = pd.DataFrame(data=np.array([['2017-04-09', '4', '0'],\n",
    "                          ['2017-04-10', '0', '1'],]), columns=['rq', '胜', '负'])\n",
    "result"
   ]
  },
  {
   "cell_type": "code",
   "execution_count": null,
   "metadata": {},
   "outputs": [],
   "source": [
    "# 实现的sql语句如下\n",
    "SELECT\n",
    "\trq,\n",
    "\tSUM(shengfu = '胜') AS '胜',\n",
    "\tSUM(shengfu = '负') AS '负'\n",
    "FROM\n",
    "\tcom_result\n",
    "GROUP BY\n",
    "\trq;"
   ]
  },
  {
   "cell_type": "code",
   "execution_count": 33,
   "metadata": {},
   "outputs": [
    {
     "data": {
      "text/plain": [
       "[{'name': 'd', 'age': 2}, {'name': 'v', 'age': 10}, {'name': 'a', 'age': 20}]"
      ]
     },
     "execution_count": 33,
     "metadata": {},
     "output_type": "execute_result"
    }
   ],
   "source": [
    "# 字典排序, sorted函数的使用\n",
    "dic = [{'name': 'a', 'age':20}, {'name': 'v', 'age':10}, {'name': 'd', 'age':2},]\n",
    "sorted(dic, key=lambda x:x['age'])"
   ]
  },
  {
   "cell_type": "code",
   "execution_count": 37,
   "metadata": {},
   "outputs": [
    {
     "data": {
      "text/plain": [
       "{'k': '1', 'k1': '2', 'k2': '3'}"
      ]
     },
     "execution_count": 37,
     "metadata": {},
     "output_type": "execute_result"
    }
   ],
   "source": [
    "# 将字符串text转换成字典\n",
    "text = \"k:1|k1:2|k2:3\"\n",
    "list_t = text.split('|')\n",
    "dic = {x.split(':')[0] : x.split(':')[1] for x in list_t}\n",
    "dic"
   ]
  },
  {
   "cell_type": "code",
   "execution_count": 41,
   "metadata": {},
   "outputs": [
    {
     "data": {
      "text/plain": [
       "'######你好########'"
      ]
     },
     "execution_count": 41,
     "metadata": {},
     "output_type": "execute_result"
    }
   ],
   "source": [
    "# 解析一段html文本\n",
    "from lxml import etree\n",
    "\n",
    "html = '<a href=\"######你好########\">nihao</a>'\n",
    "et = etree.HTML(html)\n",
    "et.xpath('//a/@href')[0]"
   ]
  },
  {
   "cell_type": "markdown",
   "metadata": {},
   "source": [
    "# 基础语法"
   ]
  },
  {
   "cell_type": "code",
   "execution_count": 36,
   "metadata": {},
   "outputs": [
    {
     "ename": "AssertionError",
     "evalue": "报错信息：s不满足条件",
     "output_type": "error",
     "traceback": [
      "\u001b[1;31m---------------------------------------------------------------------------\u001b[0m",
      "\u001b[1;31mAssertionError\u001b[0m                            Traceback (most recent call last)",
      "\u001b[1;32m<ipython-input-36-5c3bb0d7ace8>\u001b[0m in \u001b[0;36m<module>\u001b[1;34m()\u001b[0m\n\u001b[0;32m      1\u001b[0m \u001b[1;31m# 断言示例\u001b[0m\u001b[1;33m\u001b[0m\u001b[1;33m\u001b[0m\u001b[0m\n\u001b[0;32m      2\u001b[0m \u001b[0ms\u001b[0m \u001b[1;33m=\u001b[0m \u001b[1;36m2\u001b[0m\u001b[1;33m\u001b[0m\u001b[0m\n\u001b[1;32m----> 3\u001b[1;33m \u001b[1;32massert\u001b[0m \u001b[0ms\u001b[0m \u001b[1;33m>\u001b[0m \u001b[1;36m3\u001b[0m\u001b[1;33m,\u001b[0m\u001b[1;34m'报错信息：s不满足条件'\u001b[0m\u001b[1;33m\u001b[0m\u001b[0m\n\u001b[0m\u001b[0;32m      4\u001b[0m \u001b[1;33m\u001b[0m\u001b[0m\n\u001b[0;32m      5\u001b[0m \u001b[1;31m# 等同于\u001b[0m\u001b[1;33m\u001b[0m\u001b[1;33m\u001b[0m\u001b[0m\n",
      "\u001b[1;31mAssertionError\u001b[0m: 报错信息：s不满足条件"
     ]
    }
   ],
   "source": [
    "# 断言示例\n",
    "s = 2\n",
    "assert s > 3,'报错信息：s不满足条件'\n",
    "\n",
    "# 等同于\n",
    "if not s > 3:\n",
    "    raise AssertionError()  # 引发异常\n",
    "    # 自定义异常 raise Exception('error_info')"
   ]
  },
  {
   "cell_type": "markdown",
   "metadata": {},
   "source": [
    "# 文件操作"
   ]
  },
  {
   "cell_type": "code",
   "execution_count": null,
   "metadata": {},
   "outputs": [],
   "source": [
    "# 输入文件夹路径，返回子元素的路径\n",
    "import os\n",
    "\n",
    "def print_dir(spath):\n",
    "    for child in os.listdir(spath):\n",
    "        child_path = os.path.join(spath, child)\n",
    "        if os.path.isdir(child_path):\n",
    "            print_dir(child_path)\n",
    "        else:\n",
    "            print(child)"
   ]
  },
  {
   "cell_type": "markdown",
   "metadata": {},
   "source": [
    "# 时间，日期"
   ]
  },
  {
   "cell_type": "code",
   "execution_count": 7,
   "metadata": {},
   "outputs": [
    {
     "name": "stdout",
     "output_type": "stream",
     "text": [
      "['08-03', '08-04', '08-05', '08-06', '08-07', '08-08', '08-09', '08-10', '08-11', '08-12', '08-13', '08-14', '08-15', '08-16', '08-17', '08-18', '08-19', '08-20', '08-21', '08-22', '08-23', '08-24', '08-25', '08-26', '08-27', '08-28', '08-29', '08-30', '08-31', '09-01', '09-02', '09-03']\n"
     ]
    }
   ],
   "source": [
    "# 根据参数生成日期列表\n",
    "import datetime\n",
    "def create_date(start_date, end_date):\n",
    "    date_list = []\n",
    "    # 将时间字符串转换为datetime对象\n",
    "    date_s = datetime.datetime.strptime(start_date, '%m-%d')\n",
    "    date_e = datetime.datetime.strptime(end_date, '%m-%d')\n",
    "    \n",
    "    # 生成日期列表\n",
    "    while date_s<=date_e:\n",
    "        # 将date_s转换成时间字符串\n",
    "        date_str = date_s.strftime('%m-%d')\n",
    "        date_list.append(date_str)\n",
    "        # 获取一天后的日期\n",
    "        date_s += datetime.timedelta(days=1)\n",
    "    print(date_list)\n",
    "    \n",
    "create_date('08-03', '09-03')"
   ]
  },
  {
   "cell_type": "markdown",
   "metadata": {},
   "source": [
    "# 数据结构"
   ]
  },
  {
   "cell_type": "code",
   "execution_count": 40,
   "metadata": {},
   "outputs": [
    {
     "data": {
      "text/plain": [
       "[1, 5, 7, 9, 2, 2, 6, 8]"
      ]
     },
     "execution_count": 40,
     "metadata": {},
     "output_type": "execute_result"
    }
   ],
   "source": [
    "# 合并列表\n",
    "s = [1,5,7,9]\n",
    "l = [2,2,6,8]\n",
    "s + l  # 方法一\n",
    "s.extend(l)  # 方法二\n",
    "s"
   ]
  },
  {
   "cell_type": "code",
   "execution_count": 46,
   "metadata": {},
   "outputs": [
    {
     "name": "stdout",
     "output_type": "stream",
     "text": [
      "{'s': 1, 2: 'q', 3: 'e'}\n"
     ]
    }
   ],
   "source": [
    "# 删除字典键值、合并字典、删除整个字典\n",
    "dic = {1:'a',2:'q',3:'e'}\n",
    "del dic[1]  # 删除键值对\n",
    "dic2 = {'s':1}\n",
    "dic.update(dic2)  # 合并字典，两个字典合并后内容一致\n",
    "dic2.update(dic)\n",
    "del dic  # 删除字典\n",
    "print(dic2)"
   ]
  },
  {
   "cell_type": "code",
   "execution_count": 12,
   "metadata": {},
   "outputs": [
    {
     "name": "stdout",
     "output_type": "stream",
     "text": [
      "1\n"
     ]
    }
   ],
   "source": [
    "# 有序列1，10，100，1000...,输出第N个数\n",
    "def find(n):\n",
    "    a = [1,10,1000,10000,1000000]\n",
    "    a1 = list(map(lambda x: str(x), a))\n",
    "#     print(''.join(a1))\n",
    "    a2 = ''.join(a1)\n",
    "    a3 = a2[n-1:n]\n",
    "    print(a3)\n",
    "#     print(list(a2)[n-1])\n",
    "\n",
    "find(1)"
   ]
  },
  {
   "cell_type": "code",
   "execution_count": 11,
   "metadata": {},
   "outputs": [
    {
     "name": "stdout",
     "output_type": "stream",
     "text": [
      "[1, 2, [3, 6]] [1, 2, [3, 6]] [1, 2, [4, 6]]\n"
     ]
    }
   ],
   "source": [
    "# copy 和 deepcopy 的区别\n",
    "import copy\n",
    "\n",
    "list1 = [1,2,[4,6]]\n",
    "list2 = list1.copy()\n",
    "list3 = copy.deepcopy(list1)\n",
    "list2[2][0] = 3\n",
    "print(list1, list2, list3)"
   ]
  },
  {
   "cell_type": "code",
   "execution_count": 13,
   "metadata": {},
   "outputs": [
    {
     "data": {
      "text/plain": [
       "3628800"
      ]
     },
     "execution_count": 13,
     "metadata": {},
     "output_type": "execute_result"
    }
   ],
   "source": [
    "# N阶乘\n",
    "def count_n(n):\n",
    "    if n == 1:\n",
    "        return n\n",
    "    return n*count_n(n-1)\n",
    "\n",
    "count_n(10)"
   ]
  },
  {
   "cell_type": "code",
   "execution_count": 1,
   "metadata": {},
   "outputs": [
    {
     "data": {
      "text/plain": [
       "Counter({'f': 5,\n",
       "         's': 4,\n",
       "         'd': 3,\n",
       "         'h': 3,\n",
       "         'k': 1,\n",
       "         'j': 1,\n",
       "         'u': 2,\n",
       "         'e': 1,\n",
       "         'y': 1,\n",
       "         'v': 1})"
      ]
     },
     "execution_count": 1,
     "metadata": {},
     "output_type": "execute_result"
    }
   ],
   "source": [
    "# 统计字符串中每个字符出现的次数Counter\n",
    "from collections import Counter\n",
    "\n",
    "s = 'ffsdfdshfhsdfhkjsueuyv'\n",
    "Counter(s)"
   ]
  },
  {
   "cell_type": "code",
   "execution_count": 20,
   "metadata": {},
   "outputs": [
    {
     "data": {
      "text/plain": [
       "[16, 25]"
      ]
     },
     "execution_count": 20,
     "metadata": {},
     "output_type": "execute_result"
    }
   ],
   "source": [
    "# 列表[1,2,3,4,5],请使用map()函数输出[1,4,9,16,25]，并使用列表推导式提取出大于10的数，最终输出[16,25]\n",
    "s = [1,2,3,4,5]\n",
    "l = list(map(lambda x:x**2, s))\n",
    "print(l)\n",
    "print([x for x in l if x>10])"
   ]
  },
  {
   "cell_type": "code",
   "execution_count": 24,
   "metadata": {},
   "outputs": [
    {
     "name": "stdout",
     "output_type": "stream",
     "text": [
      "9 [ 0.39535373 -0.65542465 -0.78636326] 4.859227157509136 0.9876398016322775\n"
     ]
    }
   ],
   "source": [
    "# python中生成随机整数、随机小数、0--1之间小数方法\n",
    "import random\n",
    "import numpy as np\n",
    "\n",
    "# 生成整数\n",
    "i = random.randint(2, 9)\n",
    "# 生成三个小数\n",
    "f = np.random.randn(3)\n",
    "# 生成一个指定范围的小数\n",
    "u = random.uniform(3, 5)\n",
    "# 生成0--1之间的小数\n",
    "s = random.random()\n",
    "\n",
    "print(i, f, u, s)"
   ]
  },
  {
   "cell_type": "code",
   "execution_count": 6,
   "metadata": {},
   "outputs": [
    {
     "name": "stdout",
     "output_type": "stream",
     "text": [
      "sort result [7, 4, 3, 1, 5, 3]\n",
      "sort result [7, 5, 3, 1, 4, 3]\n",
      "sort result [7, 5, 4, 1, 3, 3]\n",
      "sort result [7, 5, 4, 3, 1, 3]\n",
      "sort result [7, 5, 4, 3, 3, 1]\n"
     ]
    },
    {
     "data": {
      "text/plain": [
       "[7, 5, 4, 3, 3, 1]"
      ]
     },
     "execution_count": 6,
     "metadata": {},
     "output_type": "execute_result"
    }
   ],
   "source": [
    "# list选择排序\n",
    "def sortl(s):\n",
    "    for i in range(len(s)-1):\n",
    "        maxindex = i\n",
    "        for j in range(i+1, len(s)):\n",
    "            if s[maxindex] < s[j]:\n",
    "                maxindex = j\n",
    "                \n",
    "        current = s[i]\n",
    "        s[i] = s[maxindex]\n",
    "        s[maxindex] = current\n",
    "        print('sort result', s)\n",
    "    \n",
    "    return s\n",
    "\n",
    "sortl([1, 4, 3, 7, 5, 3])"
   ]
  },
  {
   "cell_type": "code",
   "execution_count": 61,
   "metadata": {},
   "outputs": [
    {
     "name": "stdout",
     "output_type": "stream",
     "text": [
      "{1: 'a'} (553, 10, 6)\n",
      "{1: 'a', 2: 'b'} (580, 10, 6)\n",
      "{3: 'c'} (591, 10, 6)\n"
     ]
    }
   ],
   "source": [
    "# 参数为可变类型\n",
    "import gc\n",
    "\n",
    "\n",
    "def fun(k, v, dic={}):\n",
    "    dic[k] = v\n",
    "    print(dic)\n",
    "    del dic\n",
    "    \n",
    "fun(1, 'a')\n",
    "fun(2, 'b')\n",
    "fun(3, 'c', {})"
   ]
  },
  {
   "cell_type": "code",
   "execution_count": 3,
   "metadata": {},
   "outputs": [
    {
     "data": {
      "text/plain": [
       "[0, 2, 4, 8, 8, 9, -2, -4, -4, -5, -20]"
      ]
     },
     "execution_count": 3,
     "metadata": {},
     "output_type": "execute_result"
    }
   ],
   "source": [
    "# 对list排序foo = [-5,8,0,4,9,-4,-20,-2,8,2,-4]\n",
    "# 输出结果为 [0,2,4,8,8,9,-2,-4,-4,-5,-20]，正数从小到大，负数从大到小\n",
    "foo = [-5,8,0,4,9,-4,-20,-2,8,2,-4]\n",
    "sorted(foo, key=lambda x:(x<0,abs(x)))"
   ]
  },
  {
   "cell_type": "code",
   "execution_count": 4,
   "metadata": {},
   "outputs": [
    {
     "data": {
      "text/plain": [
       "[['a', 12], ['c', 23], ['d', 23], ['b', 34]]"
      ]
     },
     "execution_count": 4,
     "metadata": {},
     "output_type": "execute_result"
    }
   ],
   "source": [
    "# 列表嵌套列表排序，年龄数字相同\n",
    "s = [['a',12], ['b', 34], ['c', 23], ['d', 23]]\n",
    "sorted(s, key=lambda x:(x[1], x[0]))"
   ]
  },
  {
   "cell_type": "code",
   "execution_count": 6,
   "metadata": {},
   "outputs": [
    {
     "name": "stdout",
     "output_type": "stream",
     "text": [
      "[0, 1, 2, 3, 4, 5, 6, 7, 8, 9] <generator object <genexpr> at 0x000001807485A4C0> {0: 2, 1: 9, 2: 7, 3: 7, 4: 6, 5: 3, 6: 7, 7: 3, 8: 8, 9: 4}\n"
     ]
    }
   ],
   "source": [
    "# 列表生成式、字典生成式、生成器\n",
    "import random\n",
    "\n",
    "s = [i for i in range(10)]\n",
    "list_gen = (i for i in range(10))\n",
    "dic = {k:random.randint(2, 9) for k in range(10)}\n",
    "\n",
    "print(s, list_gen, dic)"
   ]
  },
  {
   "cell_type": "markdown",
   "metadata": {},
   "source": [
    "# 正则"
   ]
  },
  {
   "cell_type": "code",
   "execution_count": 25,
   "metadata": {},
   "outputs": [
    {
     "data": {
      "text/plain": [
       "['张三', '深圳']"
      ]
     },
     "execution_count": 25,
     "metadata": {},
     "output_type": "execute_result"
    }
   ],
   "source": [
    "# 使用正则获取字符串a = \"not 404 found 张三 99 深圳\"中的\"张三  深圳\"\n",
    "import re\n",
    "\n",
    "a = \"not 404 found 张三 99 深圳\"\n",
    "result = re.findall(r'.*?([\\u4E00-\\u9FA5]+).*?', a)\n",
    "result"
   ]
  },
  {
   "cell_type": "code",
   "execution_count": 15,
   "metadata": {},
   "outputs": [
    {
     "data": {
      "text/plain": [
       "['info', 'xiaoZhang', '33', 'shandong']"
      ]
     },
     "execution_count": 15,
     "metadata": {},
     "output_type": "execute_result"
    }
   ],
   "source": [
    "# s=\"info:xiaoZhang 33 shandong\",用正则切分字符串输出['info', 'xiaoZhang', '33', 'shandong']\n",
    "import re\n",
    "\n",
    "s=\"info:xiaoZhang 33 shandong\"\n",
    "result = re.split(r':| ', s)\n",
    "result"
   ]
  },
  {
   "cell_type": "code",
   "execution_count": 48,
   "metadata": {},
   "outputs": [
    {
     "data": {
      "text/plain": [
       "'张明 100分'"
      ]
     },
     "execution_count": 48,
     "metadata": {},
     "output_type": "execute_result"
    }
   ],
   "source": [
    "# a=\"张明 98分\"，用re.sub，将98替换为100\n",
    "import re\n",
    "\n",
    "a = \"张明 98分\"\n",
    "result = re.sub('\\d+', '100', a)\n",
    "result"
   ]
  },
  {
   "cell_type": "code",
   "execution_count": 53,
   "metadata": {},
   "outputs": [
    {
     "name": "stdout",
     "output_type": "stream",
     "text": [
      "<class 'bytes'> <class 'bytes'>\n"
     ]
    }
   ],
   "source": [
    "# a=\"hello\"和b=\"你好\"编码成bytes类型\n",
    "a = b'hello'\n",
    "b = '你好'.encode()\n",
    "print(type(a), type(b))"
   ]
  },
  {
   "cell_type": "markdown",
   "metadata": {},
   "source": [
    "# 函数对象"
   ]
  },
  {
   "cell_type": "code",
   "execution_count": 4,
   "metadata": {},
   "outputs": [
    {
     "name": "stdout",
     "output_type": "stream",
     "text": [
      "1.0008385181427002\n",
      "2.000880718231201\n"
     ]
    },
    {
     "data": {
      "text/plain": [
       "7986"
      ]
     },
     "execution_count": 4,
     "metadata": {},
     "output_type": "execute_result"
    }
   ],
   "source": [
    "# 使用装饰器函数打印函数的执行时间\n",
    "import time\n",
    "\n",
    "def get_time(fun):\n",
    "    \n",
    "    def wrap(*args,**kwargs):\n",
    "        start_time = time.time()\n",
    "        result = fun(*args, **kwargs)\n",
    "        end_time = time.time()\n",
    "        print(end_time - start_time)\n",
    "        return result \n",
    "    \n",
    "    return wrap\n",
    "\n",
    "# 测试\n",
    "@get_time\n",
    "def fast(x, y):\n",
    "    time.sleep(1)\n",
    "    return x + y\n",
    "\n",
    "@get_time\n",
    "def slow(x, y, z):\n",
    "    time.sleep(2)\n",
    "    return x * y * z\n",
    "\n",
    "fast(11, 22)\n",
    "slow(11, 22, 33)"
   ]
  },
  {
   "cell_type": "code",
   "execution_count": 8,
   "metadata": {},
   "outputs": [
    {
     "data": {
      "text/plain": [
       "[1, 3, 5, 7, 9]"
      ]
     },
     "execution_count": 8,
     "metadata": {},
     "output_type": "execute_result"
    }
   ],
   "source": [
    "# filter方法求出列表所有奇数并构造新列表，a =  [1, 2, 3, 4, 5, 6, 7, 8, 9, 10]\n",
    "a =  [1, 2, 3, 4, 5, 6, 7, 8, 9, 10]\n",
    "result = filter(lambda x:x%2 != 0, a)\n",
    "list(result)"
   ]
  },
  {
   "cell_type": "code",
   "execution_count": 47,
   "metadata": {},
   "outputs": [
    {
     "data": {
      "text/plain": [
       "[1, 2, 3, 4, 5, 6]"
      ]
     },
     "execution_count": 47,
     "metadata": {},
     "output_type": "execute_result"
    }
   ],
   "source": [
    "# [[1,2],[3,4],[5,6]]一行代码展开该列表，得出[1,2,3,4,5,6]\n",
    "s = [[1,2],[3,4],[5,6]]\n",
    "[x for i in s for x in i ]"
   ]
  },
  {
   "cell_type": "markdown",
   "metadata": {},
   "source": [
    "# sql"
   ]
  },
  {
   "cell_type": "code",
   "execution_count": 37,
   "metadata": {},
   "outputs": [],
   "source": [
    "# 数据表student有id,name,score,city字段，其中name中的名字可有重复，需要消除重复行\n",
    "sql = 'select distinct name from student'  # distinct 去除重复，可以和聚合函数搭配使用"
   ]
  }
 ],
 "metadata": {
  "kernelspec": {
   "display_name": "Python 3",
   "language": "python",
   "name": "python3"
  },
  "language_info": {
   "codemirror_mode": {
    "name": "ipython",
    "version": 3
   },
   "file_extension": ".py",
   "mimetype": "text/x-python",
   "name": "python",
   "nbconvert_exporter": "python",
   "pygments_lexer": "ipython3",
   "version": "3.5.4"
  }
 },
 "nbformat": 4,
 "nbformat_minor": 2
}
