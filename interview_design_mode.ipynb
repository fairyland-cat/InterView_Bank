{
 "cells": [
  {
   "cell_type": "markdown",
   "metadata": {},
   "source": [
    "### 单例模式"
   ]
  },
  {
   "cell_type": "code",
   "execution_count": 2,
   "metadata": {},
   "outputs": [
    {
     "data": {
      "text/plain": [
       "9"
      ]
     },
     "execution_count": 2,
     "metadata": {},
     "output_type": "execute_result"
    }
   ],
   "source": [
    "# 装饰器实现方式\n",
    "def singlrton(cls):\n",
    "    instances = {}\n",
    "    def wrap(*args, **kwargs):\n",
    "        if cls not in instances:\n",
    "            instances[cls] = cls(*args, **kwargs)\n",
    "        \n",
    "        return instances[cls]\n",
    "    return wrap\n",
    "\n",
    "# case\n",
    "@singlrton\n",
    "class Test:\n",
    "    \n",
    "    s = 1\n",
    "    \n",
    "    def __init__(self, a=0):\n",
    "        self.a = a\n",
    "        \n",
    "test1 = Test()\n",
    "test2 = Test(2)\n",
    "\n",
    "test1.s = 9\n",
    "test2.s"
   ]
  },
  {
   "cell_type": "markdown",
   "metadata": {},
   "source": [
    "### 装饰器模式"
   ]
  },
  {
   "cell_type": "code",
   "execution_count": 4,
   "metadata": {},
   "outputs": [
    {
     "name": "stdout",
     "output_type": "stream",
     "text": [
      "开始执行...\n",
      "开始工作\n"
     ]
    }
   ],
   "source": [
    "# 装饰器模式\n",
    "class CreateDec:\n",
    "    def __init__(self, selfname):\n",
    "        self.selfname = selfname\n",
    "    \n",
    "    def exec(self):\n",
    "        print('开始执行...')\n",
    "        self.selfname.speak()\n",
    "        \n",
    "class Dog:\n",
    "    def speak(self):\n",
    "        print('开始工作')\n",
    "        \n",
    "dog = Dog()\n",
    "d = CreateDec(dog)\n",
    "d.exec()"
   ]
  },
  {
   "cell_type": "markdown",
   "metadata": {},
   "source": [
    "### 适配器模式"
   ]
  },
  {
   "cell_type": "code",
   "execution_count": 5,
   "metadata": {},
   "outputs": [
    {
     "name": "stdout",
     "output_type": "stream",
     "text": [
      "二孔插座\n"
     ]
    }
   ],
   "source": [
    "# 原理：就是电源适配器的原理吧，将本来不兼容的接口类能够工作\n",
    "# 假如一个插座类输出脚是3脚的，而台灯需要的是两脚插座，现在就需要一个Adapter实现适配插座\n",
    "\n",
    "class Socket:\n",
    "    def trigle(self):\n",
    "        s = '三孔插座'\n",
    "        print('这是{}'.format(s))\n",
    "        \n",
    "class TableLamp:\n",
    "    def need(self):\n",
    "        pass\n",
    "    \n",
    "class Adapter(Socket, TableLamp):\n",
    "    def __init__(self, socket):\n",
    "        self.socket = socket\n",
    "        self.socket.s = '二孔插座'\n",
    "    def need(self):\n",
    "        print(self.socket.s)\n",
    "        \n",
    "ad = Adapter(Socket())\n",
    "ad.need()\n",
    "        "
   ]
  },
  {
   "cell_type": "markdown",
   "metadata": {},
   "source": [
    "### 中介者模式"
   ]
  },
  {
   "cell_type": "code",
   "execution_count": null,
   "metadata": {},
   "outputs": [],
   "source": [
    "# 指提供一个统一的接口去访问多个子系统的多个不同的接口，它为子系统中的一组接口提供一个统一的高层接口。使得子系统更容易使用。\n"
   ]
  }
 ],
 "metadata": {
  "kernelspec": {
   "display_name": "Python 3",
   "language": "python",
   "name": "python3"
  },
  "language_info": {
   "codemirror_mode": {
    "name": "ipython",
    "version": 3
   },
   "file_extension": ".py",
   "mimetype": "text/x-python",
   "name": "python",
   "nbconvert_exporter": "python",
   "pygments_lexer": "ipython3",
   "version": "3.6.5"
  }
 },
 "nbformat": 4,
 "nbformat_minor": 2
}
